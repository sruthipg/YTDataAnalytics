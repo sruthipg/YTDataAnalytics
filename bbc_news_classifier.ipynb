{
 "cells": [
  {
   "cell_type": "code",
   "execution_count": 10,
   "metadata": {},
   "outputs": [],
   "source": [
    "import pandas as pd\n",
    "import numpy as np\n",
    "import matplotlib.pyplot as plt\n",
    "import seaborn as sns\n",
    "import sklearn"
   ]
  },
  {
   "cell_type": "markdown",
   "metadata": {},
   "source": [
    "# Loading the Dataset\n",
    "In this classification approach we will be using Logistic Regression, Gaussian Naïve Bayes, Linear SVC"
   ]
  },
  {
   "cell_type": "code",
   "execution_count": 15,
   "metadata": {},
   "outputs": [
    {
     "name": "stdout",
     "output_type": "stream",
     "text": [
      "(500, 4)\n"
     ]
    },
    {
     "data": {
      "text/html": [
       "<div>\n",
       "<style scoped>\n",
       "    .dataframe tbody tr th:only-of-type {\n",
       "        vertical-align: middle;\n",
       "    }\n",
       "\n",
       "    .dataframe tbody tr th {\n",
       "        vertical-align: top;\n",
       "    }\n",
       "\n",
       "    .dataframe thead th {\n",
       "        text-align: right;\n",
       "    }\n",
       "</style>\n",
       "<table border=\"1\" class=\"dataframe\">\n",
       "  <thead>\n",
       "    <tr style=\"text-align: right;\">\n",
       "      <th></th>\n",
       "      <th>body</th>\n",
       "      <th>title</th>\n",
       "      <th>filename</th>\n",
       "      <th>category</th>\n",
       "    </tr>\n",
       "  </thead>\n",
       "  <tbody>\n",
       "    <tr>\n",
       "      <th>0</th>\n",
       "      <td>The global web blog community is being called ...</td>\n",
       "      <td>Global blogger action day called</td>\n",
       "      <td>bbc/tech/016.txt</td>\n",
       "      <td>tech</td>\n",
       "    </tr>\n",
       "    <tr>\n",
       "      <th>1</th>\n",
       "      <td>The \"digital divide\" between rich and poor nat...</td>\n",
       "      <td>Global digital divide 'narrowing'</td>\n",
       "      <td>bbc/tech/033.txt</td>\n",
       "      <td>tech</td>\n",
       "    </tr>\n",
       "    <tr>\n",
       "      <th>2</th>\n",
       "      <td>The current slew of sports games offers unpara...</td>\n",
       "      <td>Sporting rivals go to extra time</td>\n",
       "      <td>bbc/tech/056.txt</td>\n",
       "      <td>tech</td>\n",
       "    </tr>\n",
       "    <tr>\n",
       "      <th>3</th>\n",
       "      <td>Writing a Microsoft Word document can be a dan...</td>\n",
       "      <td>Warning over Windows Word files</td>\n",
       "      <td>bbc/tech/086.txt</td>\n",
       "      <td>tech</td>\n",
       "    </tr>\n",
       "    <tr>\n",
       "      <th>4</th>\n",
       "      <td>Aid workers trying to house, feed and clothe m...</td>\n",
       "      <td>Satellite mapping aids Darfur relief</td>\n",
       "      <td>bbc/tech/223.txt</td>\n",
       "      <td>tech</td>\n",
       "    </tr>\n",
       "    <tr>\n",
       "      <th>...</th>\n",
       "      <td>...</td>\n",
       "      <td>...</td>\n",
       "      <td>...</td>\n",
       "      <td>...</td>\n",
       "    </tr>\n",
       "    <tr>\n",
       "      <th>495</th>\n",
       "      <td>Wales coach Mike Ruddock says England lock Dan...</td>\n",
       "      <td>Wales critical of clumsy Grewcock</td>\n",
       "      <td>bbc/sport/307.txt</td>\n",
       "      <td>sport</td>\n",
       "    </tr>\n",
       "    <tr>\n",
       "      <th>496</th>\n",
       "      <td>Tim Henman saved a match point before fighting...</td>\n",
       "      <td>Henman overcomes rival Rusedski</td>\n",
       "      <td>bbc/sport/421.txt</td>\n",
       "      <td>sport</td>\n",
       "    </tr>\n",
       "    <tr>\n",
       "      <th>497</th>\n",
       "      <td>Newly-crowned Australian Open champion Marat S...</td>\n",
       "      <td>Safin cool on Wimbledon</td>\n",
       "      <td>bbc/sport/489.txt</td>\n",
       "      <td>sport</td>\n",
       "    </tr>\n",
       "    <tr>\n",
       "      <th>498</th>\n",
       "      <td>The International Association of Athletics Fed...</td>\n",
       "      <td>IAAF will contest Greek decision</td>\n",
       "      <td>bbc/sport/081.txt</td>\n",
       "      <td>sport</td>\n",
       "    </tr>\n",
       "    <tr>\n",
       "      <th>499</th>\n",
       "      <td>England coach Sven-Goran Eriksson has revealed...</td>\n",
       "      <td>Wright-Phillips to start on right</td>\n",
       "      <td>bbc/sport/113.txt</td>\n",
       "      <td>sport</td>\n",
       "    </tr>\n",
       "  </tbody>\n",
       "</table>\n",
       "<p>500 rows × 4 columns</p>\n",
       "</div>"
      ],
      "text/plain": [
       "                                                  body  \\\n",
       "0    The global web blog community is being called ...   \n",
       "1    The \"digital divide\" between rich and poor nat...   \n",
       "2    The current slew of sports games offers unpara...   \n",
       "3    Writing a Microsoft Word document can be a dan...   \n",
       "4    Aid workers trying to house, feed and clothe m...   \n",
       "..                                                 ...   \n",
       "495  Wales coach Mike Ruddock says England lock Dan...   \n",
       "496  Tim Henman saved a match point before fighting...   \n",
       "497  Newly-crowned Australian Open champion Marat S...   \n",
       "498  The International Association of Athletics Fed...   \n",
       "499  England coach Sven-Goran Eriksson has revealed...   \n",
       "\n",
       "                                    title           filename category  \n",
       "0        Global blogger action day called   bbc/tech/016.txt     tech  \n",
       "1       Global digital divide 'narrowing'   bbc/tech/033.txt     tech  \n",
       "2        Sporting rivals go to extra time   bbc/tech/056.txt     tech  \n",
       "3         Warning over Windows Word files   bbc/tech/086.txt     tech  \n",
       "4    Satellite mapping aids Darfur relief   bbc/tech/223.txt     tech  \n",
       "..                                    ...                ...      ...  \n",
       "495     Wales critical of clumsy Grewcock  bbc/sport/307.txt    sport  \n",
       "496       Henman overcomes rival Rusedski  bbc/sport/421.txt    sport  \n",
       "497               Safin cool on Wimbledon  bbc/sport/489.txt    sport  \n",
       "498      IAAF will contest Greek decision  bbc/sport/081.txt    sport  \n",
       "499     Wright-Phillips to start on right  bbc/sport/113.txt    sport  \n",
       "\n",
       "[500 rows x 4 columns]"
      ]
     },
     "execution_count": 15,
     "metadata": {},
     "output_type": "execute_result"
    }
   ],
   "source": [
    "bbc_data = pd.read_csv('bbc_news.csv')\n",
    "print(bbc_data.shape)\n",
    "bbc_data"
   ]
  },
  {
   "cell_type": "code",
   "execution_count": 16,
   "metadata": {},
   "outputs": [
    {
     "data": {
      "text/plain": [
       "(500, 4)"
      ]
     },
     "execution_count": 16,
     "metadata": {},
     "output_type": "execute_result"
    }
   ],
   "source": [
    "# Rename the colums title to \"News_Headline and body to Content\"\n",
    "bbc_data.rename(columns={'title': 'News_Headline', 'body': 'Content'}, inplace=True)\n",
    "bbc_data.dropna(axis=1)\n",
    "bbc_data.shape"
   ]
  },
  {
   "cell_type": "code",
   "execution_count": null,
   "metadata": {},
   "outputs": [],
   "source": []
  }
 ],
 "metadata": {
  "kernelspec": {
   "display_name": "Python 3",
   "language": "python",
   "name": "python3"
  },
  "language_info": {
   "codemirror_mode": {
    "name": "ipython",
    "version": 3
   },
   "file_extension": ".py",
   "mimetype": "text/x-python",
   "name": "python",
   "nbconvert_exporter": "python",
   "pygments_lexer": "ipython3",
   "version": "3.11.5"
  }
 },
 "nbformat": 4,
 "nbformat_minor": 2
}
