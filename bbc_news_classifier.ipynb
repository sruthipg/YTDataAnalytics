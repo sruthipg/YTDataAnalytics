{
 "cells": [
  {
   "cell_type": "code",
   "execution_count": 10,
   "metadata": {},
   "outputs": [],
   "source": [
    "import pandas as pd\n",
    "import numpy as np\n",
    "import matplotlib.pyplot as plt\n",
    "import seaborn as sns\n",
    "import sklearn"
   ]
  },
  {
   "cell_type": "markdown",
   "metadata": {},
   "source": [
    "# Loading the Dataset\n",
    "In this classification approach we will be using Logistic Regression, Gaussian Naïve Bayes, Linear SVC"
   ]
  },
  {
   "cell_type": "code",
   "execution_count": 15,
   "metadata": {},
   "outputs": [
    {
     "name": "stdout",
     "output_type": "stream",
     "text": [
      "(500, 4)\n"
     ]
    },
    {
     "data": {
      "text/html": [
       "<div>\n",
       "<style scoped>\n",
       "    .dataframe tbody tr th:only-of-type {\n",
       "        vertical-align: middle;\n",
       "    }\n",
       "\n",
       "    .dataframe tbody tr th {\n",
       "        vertical-align: top;\n",
       "    }\n",
       "\n",
       "    .dataframe thead th {\n",
       "        text-align: right;\n",
       "    }\n",
       "</style>\n",
       "<table border=\"1\" class=\"dataframe\">\n",
       "  <thead>\n",
       "    <tr style=\"text-align: right;\">\n",
       "      <th></th>\n",
       "      <th>body</th>\n",
       "      <th>title</th>\n",
       "      <th>filename</th>\n",
       "      <th>category</th>\n",
       "    </tr>\n",
       "  </thead>\n",
       "  <tbody>\n",
       "    <tr>\n",
       "      <th>0</th>\n",
       "      <td>The global web blog community is being called ...</td>\n",
       "      <td>Global blogger action day called</td>\n",
       "      <td>bbc/tech/016.txt</td>\n",
       "      <td>tech</td>\n",
       "    </tr>\n",
       "    <tr>\n",
       "      <th>1</th>\n",
       "      <td>The \"digital divide\" between rich and poor nat...</td>\n",
       "      <td>Global digital divide 'narrowing'</td>\n",
       "      <td>bbc/tech/033.txt</td>\n",
       "      <td>tech</td>\n",
       "    </tr>\n",
       "    <tr>\n",
       "      <th>2</th>\n",
       "      <td>The current slew of sports games offers unpara...</td>\n",
       "      <td>Sporting rivals go to extra time</td>\n",
       "      <td>bbc/tech/056.txt</td>\n",
       "      <td>tech</td>\n",
       "    </tr>\n",
       "    <tr>\n",
       "      <th>3</th>\n",
       "      <td>Writing a Microsoft Word document can be a dan...</td>\n",
       "      <td>Warning over Windows Word files</td>\n",
       "      <td>bbc/tech/086.txt</td>\n",
       "      <td>tech</td>\n",
       "    </tr>\n",
       "    <tr>\n",
       "      <th>4</th>\n",
       "      <td>Aid workers trying to house, feed and clothe m...</td>\n",
       "      <td>Satellite mapping aids Darfur relief</td>\n",
       "      <td>bbc/tech/223.txt</td>\n",
       "      <td>tech</td>\n",
       "    </tr>\n",
       "    <tr>\n",
       "      <th>...</th>\n",
       "      <td>...</td>\n",
       "      <td>...</td>\n",
       "      <td>...</td>\n",
       "      <td>...</td>\n",
       "    </tr>\n",
       "    <tr>\n",
       "      <th>495</th>\n",
       "      <td>Wales coach Mike Ruddock says England lock Dan...</td>\n",
       "      <td>Wales critical of clumsy Grewcock</td>\n",
       "      <td>bbc/sport/307.txt</td>\n",
       "      <td>sport</td>\n",
       "    </tr>\n",
       "    <tr>\n",
       "      <th>496</th>\n",
       "      <td>Tim Henman saved a match point before fighting...</td>\n",
       "      <td>Henman overcomes rival Rusedski</td>\n",
       "      <td>bbc/sport/421.txt</td>\n",
       "      <td>sport</td>\n",
       "    </tr>\n",
       "    <tr>\n",
       "      <th>497</th>\n",
       "      <td>Newly-crowned Australian Open champion Marat S...</td>\n",
       "      <td>Safin cool on Wimbledon</td>\n",
       "      <td>bbc/sport/489.txt</td>\n",
       "      <td>sport</td>\n",
       "    </tr>\n",
       "    <tr>\n",
       "      <th>498</th>\n",
       "      <td>The International Association of Athletics Fed...</td>\n",
       "      <td>IAAF will contest Greek decision</td>\n",
       "      <td>bbc/sport/081.txt</td>\n",
       "      <td>sport</td>\n",
       "    </tr>\n",
       "    <tr>\n",
       "      <th>499</th>\n",
       "      <td>England coach Sven-Goran Eriksson has revealed...</td>\n",
       "      <td>Wright-Phillips to start on right</td>\n",
       "      <td>bbc/sport/113.txt</td>\n",
       "      <td>sport</td>\n",
       "    </tr>\n",
       "  </tbody>\n",
       "</table>\n",
       "<p>500 rows × 4 columns</p>\n",
       "</div>"
      ],
      "text/plain": [
       "                                                  body  \\\n",
       "0    The global web blog community is being called ...   \n",
       "1    The \"digital divide\" between rich and poor nat...   \n",
       "2    The current slew of sports games offers unpara...   \n",
       "3    Writing a Microsoft Word document can be a dan...   \n",
       "4    Aid workers trying to house, feed and clothe m...   \n",
       "..                                                 ...   \n",
       "495  Wales coach Mike Ruddock says England lock Dan...   \n",
       "496  Tim Henman saved a match point before fighting...   \n",
       "497  Newly-crowned Australian Open champion Marat S...   \n",
       "498  The International Association of Athletics Fed...   \n",
       "499  England coach Sven-Goran Eriksson has revealed...   \n",
       "\n",
       "                                    title           filename category  \n",
       "0        Global blogger action day called   bbc/tech/016.txt     tech  \n",
       "1       Global digital divide 'narrowing'   bbc/tech/033.txt     tech  \n",
       "2        Sporting rivals go to extra time   bbc/tech/056.txt     tech  \n",
       "3         Warning over Windows Word files   bbc/tech/086.txt     tech  \n",
       "4    Satellite mapping aids Darfur relief   bbc/tech/223.txt     tech  \n",
       "..                                    ...                ...      ...  \n",
       "495     Wales critical of clumsy Grewcock  bbc/sport/307.txt    sport  \n",
       "496       Henman overcomes rival Rusedski  bbc/sport/421.txt    sport  \n",
       "497               Safin cool on Wimbledon  bbc/sport/489.txt    sport  \n",
       "498      IAAF will contest Greek decision  bbc/sport/081.txt    sport  \n",
       "499     Wright-Phillips to start on right  bbc/sport/113.txt    sport  \n",
       "\n",
       "[500 rows x 4 columns]"
      ]
     },
     "execution_count": 15,
     "metadata": {},
     "output_type": "execute_result"
    }
   ],
   "source": [
    "bbc_data = pd.read_csv('bbc_news.csv')\n",
    "print(bbc_data.shape)\n",
    "bbc_data"
   ]
  },
  {
   "cell_type": "code",
   "execution_count": 16,
   "metadata": {},
   "outputs": [
    {
     "data": {
      "text/plain": [
       "(500, 4)"
      ]
     },
     "execution_count": 16,
     "metadata": {},
     "output_type": "execute_result"
    }
   ],
   "source": [
    "# Rename the colums title to \"News_Headline and body to Content\"\n",
    "bbc_data.rename(columns={'title': 'News_Headline', 'body': 'Content'}, inplace=True)\n",
    "bbc_data.dropna(axis=1)\n",
    "bbc_data.shape"
   ]
  },
  {
   "cell_type": "markdown",
   "metadata": {},
   "source": [
    "# Visualization of the Dataset"
   ]
  },
  {
   "cell_type": "code",
   "execution_count": 20,
   "metadata": {},
   "outputs": [
    {
     "data": {
      "text/plain": [
       "<Axes: xlabel='count', ylabel='category'>"
      ]
     },
     "execution_count": 20,
     "metadata": {},
     "output_type": "execute_result"
    },
    {
     "data": {
      "image/png": "[encoded data removed]",
      "text/plain": [
       "<Figure size 640x480 with 1 Axes>"
      ]
     },
     "metadata": {},
     "output_type": "display_data"
    }
   ],
   "source": [
    "sns.countplot(bbc_data.category)"
   ]
  },
  {
   "cell_type": "markdown",
   "metadata": {},
   "source": [
    "# Visualize the number of stop words present in our dataset"
   ]
  },
  {
   "cell_type": "code",
   "execution_count": 25,
   "metadata": {},
   "outputs": [
    {
     "name": "stdout",
     "output_type": "stream",
     "text": [
      "['i', 'me', 'my', 'myself', 'we', 'our', 'ours', 'ourselves', 'you', \"you're\", \"you've\", \"you'll\", \"you'd\", 'your', 'yours', 'yourself', 'yourselves', 'he', 'him', 'his', 'himself', 'she', \"she's\", 'her', 'hers', 'herself', 'it', \"it's\", 'its', 'itself', 'they', 'them', 'their', 'theirs', 'themselves', 'what', 'which', 'who', 'whom', 'this', 'that', \"that'll\", 'these', 'those', 'am', 'is', 'are', 'was', 'were', 'be', 'been', 'being', 'have', 'has', 'had', 'having', 'do', 'does', 'did', 'doing', 'a', 'an', 'the', 'and', 'but', 'if', 'or', 'because', 'as', 'until', 'while', 'of', 'at', 'by', 'for', 'with', 'about', 'against', 'between', 'into', 'through', 'during', 'before', 'after', 'above', 'below', 'to', 'from', 'up', 'down', 'in', 'out', 'on', 'off', 'over', 'under', 'again', 'further', 'then', 'once', 'here', 'there', 'when', 'where', 'why', 'how', 'all', 'any', 'both', 'each', 'few', 'more', 'most', 'other', 'some', 'such', 'no', 'nor', 'not', 'only', 'own', 'same', 'so', 'than', 'too', 'very', 's', 't', 'can', 'will', 'just', 'don', \"don't\", 'should', \"should've\", 'now', 'd', 'll', 'm', 'o', 're', 've', 'y', 'ain', 'aren', \"aren't\", 'couldn', \"couldn't\", 'didn', \"didn't\", 'doesn', \"doesn't\", 'hadn', \"hadn't\", 'hasn', \"hasn't\", 'haven', \"haven't\", 'isn', \"isn't\", 'ma', 'mightn', \"mightn't\", 'mustn', \"mustn't\", 'needn', \"needn't\", 'shan', \"shan't\", 'shouldn', \"shouldn't\", 'wasn', \"wasn't\", 'weren', \"weren't\", 'won', \"won't\", 'wouldn', \"wouldn't\"]\n"
     ]
    },
    {
     "name": "stderr",
     "output_type": "stream",
     "text": [
      "[nltk_data] Downloading package stopwords to\n",
      "[nltk_data]     /Users/sruthipg/nltk_data...\n",
      "[nltk_data]   Package stopwords is already up-to-date!\n"
     ]
    },
    {
     "data": {
      "image/png": "[encoded data removed]",
      "text/plain": [
       "<Figure size 640x480 with 1 Axes>"
      ]
     },
     "metadata": {},
     "output_type": "display_data"
    }
   ],
   "source": [
    "import nltk\n",
    "nltk.download('stopwords')\n",
    "from nltk.corpus import stopwords\n",
    "def plot_stopwords(data):\n",
    "    sw_nltk = stopwords.words('english')\n",
    "    print(sw_nltk)\n",
    "    data_split= data.str.split()\n",
    "    data_list=data_split.values.tolist()\n",
    "    corpus=[word for i in data_list for word in i]\n",
    "    from collections import defaultdict\n",
    "    dictionary_stopwords=defaultdict(int)\n",
    "    for word in corpus:\n",
    "        if word in sw_nltk:\n",
    "            dictionary_stopwords[word]+=1\n",
    "            \n",
    "    top=sorted(dictionary_stopwords.items(), key=lambda x:x[1],reverse=True)[:10] \n",
    "    x,y=zip(*top)\n",
    "    plt.bar(x,y)\n",
    "plot_stopwords(bbc_data['News_Headline'])\n"
   ]
  },
  {
   "cell_type": "code",
   "execution_count": null,
   "metadata": {},
   "outputs": [],
   "source": []
  }
 ],
 "metadata": {
  "kernelspec": {
   "display_name": "Python 3",
   "language": "python",
   "name": "python3"
  },
  "language_info": {
   "codemirror_mode": {
    "name": "ipython",
    "version": 3
   },
   "file_extension": ".py",
   "mimetype": "text/x-python",
   "name": "python",
   "nbconvert_exporter": "python",
   "pygments_lexer": "ipython3",
   "version": "3.11.5"
  }
 },
 "nbformat": 4,
 "nbformat_minor": 2
}
